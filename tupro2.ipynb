{
  "nbformat": 4,
  "nbformat_minor": 0,
  "metadata": {
    "colab": {
      "name": "tupro2",
      "provenance": [],
      "private_outputs": true,
      "collapsed_sections": [],
      "toc_visible": true,
      "include_colab_link": true
    },
    "kernelspec": {
      "name": "python3",
      "display_name": "Python 3"
    },
    "accelerator": "GPU"
  },
  "cells": [
    {
      "cell_type": "markdown",
      "metadata": {
        "id": "view-in-github",
        "colab_type": "text"
      },
      "source": [
        "<a href=\"https://colab.research.google.com/github/daffamaulana03/ID3-with-GA/blob/master/tupro2.ipynb\" target=\"_parent\"><img src=\"https://colab.research.google.com/assets/colab-badge.svg\" alt=\"Open In Colab\"/></a>"
      ]
    },
    {
      "cell_type": "code",
      "metadata": {
        "id": "mF9ONgG5KEnq",
        "colab_type": "code",
        "colab": {}
      },
      "source": [
        "import random\n",
        "import numpy\n",
        "import pandas\n",
        "import csv\n",
        "from sklearn.preprocessing import OneHotEncoder\n",
        "from sklearn.model_selection import train_test_split"
      ],
      "execution_count": 0,
      "outputs": []
    },
    {
      "cell_type": "markdown",
      "metadata": {
        "id": "jYG6KTEd50eV",
        "colab_type": "text"
      },
      "source": [
        "# **MEMBENTUK KROMOSOM**"
      ]
    },
    {
      "cell_type": "code",
      "metadata": {
        "id": "AOFZxLtSKK99",
        "colab_type": "code",
        "colab": {}
      },
      "source": [
        "def generateChromosome(jml_bit):\n",
        "    return numpy.random.randint(2, size=jml_bit)"
      ],
      "execution_count": 0,
      "outputs": []
    },
    {
      "cell_type": "markdown",
      "metadata": {
        "id": "zEvMfS9Z54_q",
        "colab_type": "text"
      },
      "source": [
        "# **MEMBENTUK POPULASI**"
      ]
    },
    {
      "cell_type": "code",
      "metadata": {
        "id": "nNq_7L_UKNOX",
        "colab_type": "code",
        "colab": {}
      },
      "source": [
        "def generatePopulation():\n",
        "    populasi = []\n",
        "    chromo1 = []\n",
        "    jml_kromosom = 20\n",
        "    jml_bit_kromosom = 45\n",
        "    \n",
        "    for individu in range(jml_kromosom):\n",
        "        populasi.append(generateChromosome(jml_bit_kromosom))\n",
        "    pops = []\n",
        "    pop = []\n",
        "    for i in range(len(populasi)):\n",
        "      pops = []\n",
        "      for j in range(len(populasi[i])):\n",
        "        pops.append(populasi[i][j])\n",
        "      pop.append(pops)\n",
        "\n",
        "    \n",
        "    return pop"
      ],
      "execution_count": 0,
      "outputs": []
    },
    {
      "cell_type": "markdown",
      "metadata": {
        "id": "PmEQsk-C58YV",
        "colab_type": "text"
      },
      "source": [
        "# **MEMBACA FILE .CSV**"
      ]
    },
    {
      "cell_type": "code",
      "metadata": {
        "id": "XXkZGQCkKP9f",
        "colab_type": "code",
        "colab": {}
      },
      "source": [
        "def readFile():\n",
        "    train = open(\"data_latih_opsi_1.csv\", \"r\")\n",
        "    dataTrain = train.readlines()\n",
        "    \n",
        "    array = []\n",
        "\n",
        "\n",
        "    for i in range(0, len(dataTrain)):\n",
        "      array.append(dataTrain[i].replace('\\n','').split(','))\n",
        "    return array"
      ],
      "execution_count": 0,
      "outputs": []
    },
    {
      "cell_type": "markdown",
      "metadata": {
        "id": "CFzZoH165_4O",
        "colab_type": "text"
      },
      "source": [
        "# **MERUBAH DATA TRAIN KE BIT**"
      ]
    },
    {
      "cell_type": "code",
      "metadata": {
        "id": "ACZuGqa9KSdO",
        "colab_type": "code",
        "colab": {}
      },
      "source": [
        "def convertToBit():\n",
        "  '''\n",
        "  |       SUHU         |         WAKTU       |           KONDISI        |     KELEMBABAN     |\n",
        "  |NORMAL|RENDAH|TINGGI|MALAM|PAGI|SIANG|SORE|BERAWAN|CERAH|HUJAN|RINTIK|NORMAL|RENDAH|TINGGI|\n",
        "  '''\n",
        "  encoder = OneHotEncoder(sparse = False)\n",
        "  train = readFile()\n",
        "  dataTrain = encoder.fit_transform(train).astype(int)\n",
        "  dataTrain = numpy.delete(dataTrain,14,1)\n",
        "  dataTraine = []\n",
        "  dataTrainee = []\n",
        "  for i in range(len(dataTrain)):\n",
        "    dataTraine = []\n",
        "    for j in range(len(dataTrain[i])):\n",
        "      dataTraine.append(dataTrain[i][j])\n",
        "    dataTrainee.append(dataTraine)\n",
        "  return dataTrainee"
      ],
      "execution_count": 0,
      "outputs": []
    },
    {
      "cell_type": "code",
      "metadata": {
        "id": "6Cr_TMKtKU6P",
        "colab_type": "code",
        "colab": {}
      },
      "source": [
        "def sliceTrain():\n",
        "  data = convertToBit()\n",
        "  \n",
        "  x_train ,x_valid = train_test_split(data,test_size=0.3)\n",
        "  return x_train,x_valid"
      ],
      "execution_count": 0,
      "outputs": []
    },
    {
      "cell_type": "markdown",
      "metadata": {
        "id": "nNmYZG396IFE",
        "colab_type": "text"
      },
      "source": [
        "# **MEMBUAT RULE UNTUK MENGHITUNG FITNES**"
      ]
    },
    {
      "cell_type": "code",
      "metadata": {
        "id": "cfTbxhAbKXEU",
        "colab_type": "code",
        "colab": {}
      },
      "source": [
        "def Rule(pop,dataTrain):\n",
        "    hasil = []\n",
        "    hasil1 = []\n",
        "    \n",
        "    for i in range(len(pop)):\n",
        "        \n",
        "        pjg = len(pop[i])\n",
        "        mod = pjg % 15\n",
        "\n",
        "        \n",
        "        kali = int(pjg / 15)\n",
        "        \n",
        "      \n",
        "        skipWaktu = []\n",
        "        skipKondisi = []\n",
        "        skipLembab = []\n",
        "        skipSuhu = []\n",
        "        \n",
        "        for j in range(len(dataTrain)):\n",
        "            for l in range((0),(3)):\n",
        "                if dataTrain[j][l] == 1:\n",
        "                        suhu = l\n",
        "            for n in range((3),(7)):\n",
        "                if dataTrain[j][n] == 1:\n",
        "                    waktu = n\n",
        "            for p in range((7),(11)):\n",
        "                if dataTrain[j][p] == 1:\n",
        "                    kondisi = p\n",
        "            for r in range((11),(14)):\n",
        "                if dataTrain[j][r] == 1:\n",
        "                    lembab = r\n",
        "\n",
        "            for itung in range(kali):\n",
        "                if ((pop[i][0+(15*(itung-1))] == 0) & (pop[i][1+(15*(itung-1))] == 0) & (pop[i][2+(15*(itung-1))] == 0)):\n",
        "                    sekip1 = True\n",
        "                    skipSuhu.append(sekip1)\n",
        "                else:\n",
        "                    sekip1 = False\n",
        "                    skipSuhu.append(sekip1)\n",
        "                if ((pop[i][3+(15*(itung-1))] == 0) & (pop[i][4+(15*(itung-1))] == 0) & (pop[i][5+(15*(itung-1))] == 0) & (pop[i][6+(15*(itung-1))] == 0)):\n",
        "                    sekip2 = True\n",
        "                    skipWaktu.append(sekip2)\n",
        "                else:\n",
        "                    sekip2 = False\n",
        "                    skipWaktu.append(sekip2)\n",
        "                if ((pop[i][7+(15*(itung-1))] == 0) & (pop[i][8+(15*(itung-1))] == 0) & (pop[i][9+(15*(itung-1))] == 0) & (pop[i][10+(15*(itung-1))] == 0)):\n",
        "                    sekip3 = True\n",
        "                    skipKondisi.append(sekip3)\n",
        "                else:\n",
        "                    sekip3 = False\n",
        "                    skipKondisi.append(sekip3)\n",
        "                if ((pop[i][11+(15*(itung-1))] == 0) & (pop[i][12+(15*(itung-1))] == 0) & (pop[i][13+(15*(itung-1))] == 0)):\n",
        "                    sekip4 = True\n",
        "                    skipLembab.append(sekip4)\n",
        "                else:\n",
        "                    sekip4 = False\n",
        "                    skipLembab.append(sekip4)\n",
        "\n",
        "            if (kali == 1):\n",
        "                if (((pop[i][suhu] == dataTrain[j][suhu]) or skipSuhu[0]) & ((pop[i][waktu] == dataTrain[j][waktu]) or skipWaktu[0]) & ((pop[i][kondisi] == dataTrain[j][kondisi]) or skipKondisi[0]) & ((pop[i][lembab] == dataTrain[j][lembab]) or skipLembab[0])):\n",
        "                    if (pop[i][14] == 1):\n",
        "                        bol = \"YA\"\n",
        "                    else:\n",
        "                        bol = \"TIDAK\"\n",
        "                    \n",
        "                else:\n",
        "                    if (pop[i][14] == 1):\n",
        "                        bol = \"TIDAK\"\n",
        "                    else:\n",
        "                        bol = \"YA\"\n",
        "            elif (kali == 2):\n",
        "                if (((pop[i][suhu] == dataTrain[j][suhu]) or skipSuhu[0]) & ((pop[i][waktu] == dataTrain[j][waktu]) or skipWaktu[0]) & ((pop[i][kondisi] == dataTrain[j][kondisi]) or skipKondisi[0]) & ((pop[i][lembab] == dataTrain[j][lembab]) or skipLembab[0])):\n",
        "                    if (pop[i][14] == 1):\n",
        "                        bol = \"YA\"\n",
        "                    else:\n",
        "                        bol = \"TIDAK\"\n",
        "                elif (((pop[i][suhu+(15*(kali-1))] == dataTrain[j][suhu]) or skipSuhu[1]) & ((pop[i][waktu+(15*(kali-1))] == dataTrain[j][waktu]) or skipWaktu[1]) & ((pop[i][kondisi+(15*(kali-1))] == dataTrain[j][kondisi]) or skipKondisi[1]) & ((pop[i][lembab+(15*(kali-1))] == dataTrain[j][lembab]) or skipLembab[1])):\n",
        "                    if (pop[i][14+(15*(kali-1))] == 1):\n",
        "                        bol = \"YA\"\n",
        "                    else:\n",
        "                        bol = \"TIDAK\"\n",
        "                else:\n",
        "                    if (pop[i][14+(15*(kali-1))] == 1):\n",
        "                        bol = \"TIDAK\"\n",
        "                    else:\n",
        "                        bol = \"YA\"\n",
        "            elif (kali == 3):\n",
        "                if (((pop[i][suhu] == dataTrain[j][suhu]) or skipSuhu[0]) & ((pop[i][waktu] == dataTrain[j][waktu]) or skipWaktu[0]) & ((pop[i][kondisi] == dataTrain[j][kondisi]) or skipKondisi[0]) & ((pop[i][lembab] == dataTrain[j][lembab]) or skipLembab[0])):\n",
        "                    if (pop[i][14] == 1):\n",
        "                        bol = \"YA\"\n",
        "                    else:\n",
        "                        bol = \"TIDAK\"\n",
        "                elif (((pop[i][suhu+(15*(kali-2))] == dataTrain[j][suhu]) or skipSuhu[1]) & ((pop[i][waktu+(15*(kali-2))] == dataTrain[j][waktu]) or skipWaktu[1]) & ((pop[i][kondisi+(15*(kali-2))] == dataTrain[j][kondisi]) or skipKondisi[1]) & ((pop[i][lembab+(15*(kali-2))] == dataTrain[j][lembab]) or skipLembab[1])):\n",
        "                    if (pop[i][14+(15*(kali-2))] == 1):\n",
        "                        bol = \"YA\"\n",
        "                    else:\n",
        "                        bol = \"TIDAK\"\n",
        "                elif (((pop[i][suhu+(15*(kali-1))] == dataTrain[j][suhu]) or skipSuhu[1]) & ((pop[i][waktu+(15*(kali-1))] == dataTrain[j][waktu]) or skipWaktu[1]) & ((pop[i][kondisi+(15*(kali-1))] == dataTrain[j][kondisi]) or skipKondisi[1]) & ((pop[i][lembab+(15*(kali-1))] == dataTrain[j][lembab]) or skipLembab[1])):\n",
        "                    if (pop[i][14+(15*(kali-1))] == 1):\n",
        "                        bol = \"YA\"\n",
        "                    else:\n",
        "                        bol = \"TIDAK\"\n",
        "                else:\n",
        "                    if (pop[i][14+(15*(kali-1))] == 1):\n",
        "                        bol = \"TIDAK\"\n",
        "                    else:\n",
        "                        bol = \"YA\"    \n",
        "            elif (kali == 4):\n",
        "                if (((pop[i][suhu] == dataTrain[j][suhu]) or skipSuhu[0]) & ((pop[i][waktu] == dataTrain[j][waktu]) or skipWaktu[0]) & ((pop[i][kondisi] == dataTrain[j][kondisi]) or skipKondisi[0]) & ((pop[i][lembab] == dataTrain[j][lembab]) or skipLembab[0])):\n",
        "                    if (pop[i][14] == 1):\n",
        "                        bol = \"YA\"\n",
        "                    else:\n",
        "                        bol = \"TIDAK\"\n",
        "                elif (((pop[i][suhu+(15*(kali-3))] == dataTrain[j][suhu]) or skipSuhu[1]) & ((pop[i][waktu+(15*(kali-3))] == dataTrain[j][waktu]) or skipWaktu[1]) & ((pop[i][kondisi+(15*(kali-3))] == dataTrain[j][kondisi]) or skipKondisi[1]) & ((pop[i][lembab+(15*(kali-3))] == dataTrain[j][lembab]) or skipLembab[1])):\n",
        "                    if (pop[i][14+(15*(kali-3))] == 1):\n",
        "                        bol = \"YA\"\n",
        "                    else:\n",
        "                        bol = \"TIDAK\"\n",
        "                elif (((pop[i][suhu+(15*(kali-2))] == dataTrain[j][suhu]) or skipSuhu[1]) & ((pop[i][waktu+(15*(kali-2))] == dataTrain[j][waktu]) or skipWaktu[1]) & ((pop[i][kondisi+(15*(kali-2))] == dataTrain[j][kondisi]) or skipKondisi[1]) & ((pop[i][lembab+(15*(kali-2))] == dataTrain[j][lembab]) or skipLembab[1])):\n",
        "                    if (pop[i][14+(15*(kali-2))] == 1):\n",
        "                        bol = \"YA\"\n",
        "                    else:\n",
        "                        bol = \"TIDAK\"\n",
        "                elif (((pop[i][suhu+(15*(kali-1))] == dataTrain[j][suhu]) or skipSuhu[1]) & ((pop[i][waktu+(15*(kali-1))] == dataTrain[j][waktu]) or skipWaktu[1]) & ((pop[i][kondisi+(15*(kali-1))] == dataTrain[j][kondisi]) or skipKondisi[1]) & ((pop[i][lembab+(15*(kali-1))] == dataTrain[j][lembab]) or skipLembab[1])):\n",
        "                    if (pop[i][14+(15*(kali-1))] == 1):\n",
        "                        bol = \"YA\"\n",
        "                    else:\n",
        "                        bol = \"TIDAK\"\n",
        "                else:\n",
        "                    if (pop[i][14+(15*(kali-1))] == 1):\n",
        "                        bol = \"TIDAK\"\n",
        "                    else:\n",
        "                        bol = \"YA\"  \n",
        "            elif (kali == 5):\n",
        "                if (((pop[i][suhu] == dataTrain[j][suhu]) or skipSuhu[0]) & ((pop[i][waktu] == dataTrain[j][waktu]) or skipWaktu[0]) & ((pop[i][kondisi] == dataTrain[j][kondisi]) or skipKondisi[0]) & ((pop[i][lembab] == dataTrain[j][lembab]) or skipLembab[0])):\n",
        "                    if (pop[i][14] == 1):\n",
        "                        bol = \"YA\"\n",
        "                    else:\n",
        "                        bol = \"TIDAK\"\n",
        "                elif (((pop[i][suhu+(15*(kali-4))] == dataTrain[j][suhu]) or skipSuhu[1]) & ((pop[i][waktu+(15*(kali-4))] == dataTrain[j][waktu]) or skipWaktu[1]) & ((pop[i][kondisi+(15*(kali-4))] == dataTrain[j][kondisi]) or skipKondisi[1]) & ((pop[i][lembab+(15*(kali-4))] == dataTrain[j][lembab]) or skipLembab[1])):\n",
        "                    if (pop[i][14+(15*(kali-4))] == 1):\n",
        "                        bol = \"YA\"\n",
        "                    else:\n",
        "                        bol = \"TIDAK\"\n",
        "                elif (((pop[i][suhu+(15*(kali-3))] == dataTrain[j][suhu]) or skipSuhu[1]) & ((pop[i][waktu+(15*(kali-3))] == dataTrain[j][waktu]) or skipWaktu[1]) & ((pop[i][kondisi+(15*(kali-3))] == dataTrain[j][kondisi]) or skipKondisi[1]) & ((pop[i][lembab+(15*(kali-3))] == dataTrain[j][lembab]) or skipLembab[1])):\n",
        "                    if (pop[i][14+(15*(kali-3))] == 1):\n",
        "                        bol = \"YA\"\n",
        "                    else:\n",
        "                        bol = \"TIDAK\"\n",
        "                elif (((pop[i][suhu+(15*(kali-2))] == dataTrain[j][suhu]) or skipSuhu[1]) & ((pop[i][waktu+(15*(kali-2))] == dataTrain[j][waktu]) or skipWaktu[1]) & ((pop[i][kondisi+(15*(kali-2))] == dataTrain[j][kondisi]) or skipKondisi[1]) & ((pop[i][lembab+(15*(kali-2))] == dataTrain[j][lembab]) or skipLembab[1])):\n",
        "                    if (pop[i][14+(15*(kali-2))] == 1):\n",
        "                        bol = \"YA\"\n",
        "                    else:\n",
        "                        bol = \"TIDAK\"\n",
        "                elif (((pop[i][suhu+(15*(kali-1))] == dataTrain[j][suhu]) or skipSuhu[1]) & ((pop[i][waktu+(15*(kali-1))] == dataTrain[j][waktu]) or skipWaktu[1]) & ((pop[i][kondisi+(15*(kali-1))] == dataTrain[j][kondisi]) or skipKondisi[1]) & ((pop[i][lembab+(15*(kali-1))] == dataTrain[j][lembab]) or skipLembab[1])):\n",
        "                    if (pop[i][14+(15*(kali-1))] == 1):\n",
        "                        bol = \"YA\"\n",
        "                    else:\n",
        "                        bol = \"TIDAK\"\n",
        "                else:\n",
        "                    if (pop[i][14+(15*(kali-1))] == 1):\n",
        "                        bol = \"TIDAK\"\n",
        "                    else:\n",
        "                        bol = \"YA\"\n",
        "                    if (pop[i][14+(15*(kali-1))] == 1):\n",
        "                        bol = \"TIDAK\"\n",
        "                    else:\n",
        "                        bol = \"YA\"      \n",
        "            hasil.append(bol)\n",
        "        hasil1.append(hasil)\n",
        "        hasil = []\n",
        "        \n",
        "    return hasil1"
      ],
      "execution_count": 0,
      "outputs": []
    },
    {
      "cell_type": "markdown",
      "metadata": {
        "id": "XkZka4a_6NzF",
        "colab_type": "text"
      },
      "source": [
        "# **MENGHITUNG FITNES**"
      ]
    },
    {
      "cell_type": "code",
      "metadata": {
        "id": "Tt2iJs8XKfTf",
        "colab_type": "code",
        "colab": {}
      },
      "source": [
        "def fitness(pop1,dataTrain):\n",
        "    Train = []\n",
        "    hasilFit = []\n",
        "    hasil = Rule(pop1,dataTrain)\n",
        "    \n",
        "    for z in range(len(dataTrain)):\n",
        "        if (dataTrain[z][14] == 1):\n",
        "            bol = \"YA\"\n",
        "        else:  \n",
        "            bol = \"TIDAK\"\n",
        "        Train.append(bol)\n",
        "    \n",
        "    countFit = 0\n",
        "    for y in range(len(hasil)):\n",
        "        countFit = 0\n",
        "        for x in range(len(Train)):\n",
        "            if (hasil[y][x] == Train[x]):\n",
        "                countFit += 1\n",
        "        hasilFit.append(countFit/len(dataTrain))\n",
        "    return hasilFit"
      ],
      "execution_count": 0,
      "outputs": []
    },
    {
      "cell_type": "markdown",
      "metadata": {
        "id": "isvj8cGY6VYJ",
        "colab_type": "text"
      },
      "source": [
        "# **MENENTUKAN PARENT**"
      ]
    },
    {
      "cell_type": "code",
      "metadata": {
        "id": "pekehQTcLSvS",
        "colab_type": "code",
        "colab": {}
      },
      "source": [
        "def parent_select(ppls,train,fit):\n",
        "   \n",
        "    haha = -1\n",
        "    for indekss in range(20):\n",
        "        indekss = random.randint(0,len(ppls)-1)\n",
        "        fit1 = fit[indekss]\n",
        "        fit2 = fit[haha]\n",
        "        if (haha == -1 or (fit1 > fit2)):\n",
        "            haha = indekss\n",
        "\n",
        "    return ppls[haha].copy(),ppls[indekss].copy()\n"
      ],
      "execution_count": 0,
      "outputs": []
    },
    {
      "cell_type": "markdown",
      "metadata": {
        "id": "WjqoZsbU6Z16",
        "colab_type": "text"
      },
      "source": [
        "# **CROSSOVER**"
      ]
    },
    {
      "cell_type": "code",
      "metadata": {
        "id": "bLZDK2n7M3jg",
        "colab_type": "code",
        "colab": {}
      },
      "source": [
        "def crossover(prt1,prt2):\n",
        "  pelCros = 0.9\n",
        "  rand = random.uniform(0,1)\n",
        "  pjg1 = len(prt1)\n",
        "  mod1 = pjg1 % 15\n",
        "  pjg2 = len(prt2)\n",
        "  mod2 = pjg2% 15\n",
        "  if rand <= pelCros:\n",
        "    if (pjg1 == pjg2):\n",
        "      p1 = random.randint(1,pjg1-1)\n",
        "      p2 = random.randint(p1,pjg1-1)\n",
        "      p3 = random.randint(p1,p2)\n",
        "      p4 = random.randint(p3,p2)\n",
        "      tmp = prt1[p1:p2].copy()\n",
        "      tmp2 = prt1[p2:pjg1].copy()\n",
        "      tmp3 = prt2[p3:p4].copy()\n",
        "      tmp4 = prt2[p4:pjg2].copy()\n",
        "      prt1[p1:] = tmp3\n",
        "      prt1[p2:] = tmp2\n",
        "      prt2[p3:] = tmp\n",
        "      prt2[p4:] = tmp4\n",
        "    else:\n",
        "      if (pjg1<pjg2):\n",
        "        p1 = random.randint(1,pjg1-1)\n",
        "        p2 = random.randint(p1,pjg1-1)\n",
        "        p3 = random.randint(p1,p2)\n",
        "        p4 = random.randint(p3,p2)\n",
        "        tmp = prt1[p1:p2].copy()\n",
        "        tmp2 = prt1[p2:pjg1].copy()\n",
        "        tmp3 = prt2[p3:p4].copy()\n",
        "        tmp4 = prt2[p4:pjg2].copy()\n",
        "        prt1[p1:] = tmp3\n",
        "        prt1[p2:] = tmp2\n",
        "        prt2[p3:] = tmp\n",
        "        prt2[p4:] = tmp4\n",
        "      else:\n",
        "        p1 = random.randint(1,pjg2-1)\n",
        "        p2 = random.randint(p1,pjg2-1)\n",
        "        p3 = random.randint(p1,p2)\n",
        "        p4 = random.randint(p3,p2)\n",
        "        tmp = prt1[p3:p4].copy()\n",
        "        tmp2 = prt1[p4:pjg1].copy()\n",
        "        tmp3 = prt2[p1:p2].copy()\n",
        "        tmp4 = prt2[p2:pjg2].copy()\n",
        "        prt1[p3:] = tmp3\n",
        "        prt1[p4:] = tmp2\n",
        "        prt2[p1:] = tmp\n",
        "        prt2[p2:] = tmp4\n",
        "  \n",
        "  pjg1 = len(prt1)\n",
        "  mod1 = pjg1 % 15\n",
        "  pjg2 = len(prt2)\n",
        "  mod2 = pjg2% 15\n",
        "  if (pjg1 > 75):\n",
        "    prt1[75:] = []\n",
        "  if (mod1 != 0): \n",
        "    panj = 0\n",
        "    panj = pjg1 - mod1\n",
        "    prt1[panj:] = []\n",
        "  \n",
        "  if (pjg2 > 75):\n",
        "    prt2[75:] = []\n",
        "  if (mod2 != 0):\n",
        "    panj = 0\n",
        "    panj = pjg2 - mod2\n",
        "    prt2[panj:] = []\n",
        "  \n",
        "  return prt1,prt2\n"
      ],
      "execution_count": 0,
      "outputs": []
    },
    {
      "cell_type": "markdown",
      "metadata": {
        "id": "1LIjoSLv6fu5",
        "colab_type": "text"
      },
      "source": [
        "# **MUTATION**"
      ]
    },
    {
      "cell_type": "code",
      "metadata": {
        "id": "RmyUT7NONlbT",
        "colab_type": "code",
        "colab": {}
      },
      "source": [
        "def mutation(co1, co2):\n",
        "    pelMut = 0.5\n",
        "    rand = random.uniform(0,1)\n",
        "    if rand <= pelMut:\n",
        "        for i in range(len(co1)):\n",
        "                co1[i] = random.randint(0,1)\n",
        "    rand = random.uniform(0,1)\n",
        "    if rand <= pelMut:\n",
        "        for j in range(len(co2)):\n",
        "                co2[j] = random.randint(0,1)\n",
        "    \n",
        "    return co1,co2"
      ],
      "execution_count": 0,
      "outputs": []
    },
    {
      "cell_type": "markdown",
      "metadata": {
        "id": "_6-3F52v6jUR",
        "colab_type": "text"
      },
      "source": [
        "# **PERGANTIAN GENERASI**"
      ]
    },
    {
      "cell_type": "code",
      "metadata": {
        "id": "sGR87NOONoc9",
        "colab_type": "code",
        "colab": {}
      },
      "source": [
        "def survivorNih():\n",
        "    train,valid = sliceTrain()\n",
        "    pop = generatePopulation()\n",
        "    fit = fitness(pop,train)\n",
        "    fitt = fitness(pop,train)\n",
        "    j= 0\n",
        "    while ((fitt[0] <= 0.8) & (j != 499)):\n",
        "        fitnes = []\n",
        "          \n",
        "        fitnes = fitness(pop,train)\n",
        "        ngurut = numpy.argsort(fitnes)[::-1]\n",
        "\n",
        "        PopulasiBaru = []\n",
        "        PopulasiBaru.append(pop[ngurut[0]])\n",
        "        PopulasiBaru.append(pop[ngurut[1]])\n",
        "            \n",
        "        while(len(PopulasiBaru) <= len(pop)):\n",
        "            prt1,prt2 = parent_select(pop,train,fitnes)\n",
        "            cr1, cr2 = crossover(prt1,prt2)\n",
        "            mu1, mu2 = mutation(cr1,cr2)\n",
        "            PopulasiBaru.append(mu1)\n",
        "            PopulasiBaru.append(mu2)\n",
        "            \n",
        "        for i in range(len(pop)):\n",
        "            PopulasiBaru.append(pop[i])\n",
        "        ngurut = []\n",
        "        fitnes = []\n",
        "        fitnes = (fitness(PopulasiBaru,train))\n",
        "        ngurut = numpy.argsort(fitnes)[::-1]\n",
        "        pop = []\n",
        "        for i in range(20):\n",
        "            pop.append(PopulasiBaru[ngurut[i]])\n",
        "        fitt = []\n",
        "        fitt = fitness(pop,train)\n",
        "        j+=1\n",
        "\n",
        "    print()\n",
        "    print(\"Kromosom Terbaik : \")\n",
        "    print(pop[0],\"Akurasinya =>\",fitt[0])\n",
        "    pops = []\n",
        "    pops.append(pop[0])\n",
        "    fitnesss = fitness(pops,valid)\n",
        "    # print(\"Jika diuji ke data validasi, Akurasinya =>\",fitnesss)\n",
        "    return pop[0]\n"
      ],
      "execution_count": 0,
      "outputs": []
    },
    {
      "cell_type": "markdown",
      "metadata": {
        "id": "Uj2QK-PD60oF",
        "colab_type": "text"
      },
      "source": [
        "# **MENENTUKAN HASIL DARI DATA TEST DENGAN KROMOSOM TERBAIK**"
      ]
    },
    {
      "cell_type": "code",
      "metadata": {
        "id": "B-D-w1Plgerp",
        "colab_type": "code",
        "colab": {}
      },
      "source": [
        "def determineTheResult():\n",
        "    test = open(\"data_uji_opsi_1.csv\", \"r\")\n",
        "    dataTest = test.readlines()\n",
        "    best = []\n",
        "    best.append(survivorNih())\n",
        "    array = []\n",
        "\n",
        "    print (len(dataTest))\n",
        "\n",
        "    for i in range(0, len(dataTest)):\n",
        "      array.append(dataTest[i].replace('\\n','').split(','))\n",
        "    for i in range(len(array)):\n",
        "      array[i].append('')\n",
        "    for i in range(len(array)):\n",
        "      print(array[i])\n",
        "    encoder = OneHotEncoder(sparse = False)\n",
        "    dataTesting = encoder.fit_transform(array).astype(int)\n",
        "    dataTrain = numpy.delete(dataTesting,14,1)\n",
        "    dataTeste = []\n",
        "    dataTestee = []\n",
        "    for i in range(len(dataTesting)):\n",
        "      dataTeste = []\n",
        "      for j in range(len(dataTesting[i])-1):\n",
        "        dataTeste.append(dataTesting[i][j])\n",
        "      dataTestee.append(dataTeste)\n",
        "    for i in range(len(dataTestee)):\n",
        "      print(dataTestee[i])\n",
        "    Result = Rule(best,dataTestee)\n",
        "    print(Result)\n",
        "    for i in range(len(array)):\n",
        "      array[i].append(Result[0][i]) \n",
        "    \n",
        "    return array"
      ],
      "execution_count": 0,
      "outputs": []
    },
    {
      "cell_type": "markdown",
      "metadata": {
        "id": "JgOdynpKf03k",
        "colab_type": "text"
      },
      "source": [
        "# **WRITE TO CSV**"
      ]
    },
    {
      "cell_type": "code",
      "metadata": {
        "id": "XgEESuNvfxwR",
        "colab_type": "code",
        "colab": {}
      },
      "source": [
        "def writeCSV():\n",
        "  baru = determineTheResult()\n",
        "  f = open('prediksi.csv', 'w')\n",
        "  w = csv.writer(f)\n",
        "  w.writerow(('Suhu','Waktu','Kondisi','Kelembaban','Terbang/Tidak'))\n",
        "  w.writerows(baru)\n",
        "\n",
        "\n",
        "writeCSV()"
      ],
      "execution_count": 0,
      "outputs": []
    }
  ]
}