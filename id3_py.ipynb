{
  "nbformat": 4,
  "nbformat_minor": 0,
  "metadata": {
    "colab": {
      "name": "id3.py",
      "provenance": [],
      "collapsed_sections": [],
      "include_colab_link": true
    },
    "kernelspec": {
      "name": "python3",
      "display_name": "Python 3"
    }
  },
  "cells": [
    {
      "cell_type": "markdown",
      "metadata": {
        "id": "view-in-github",
        "colab_type": "text"
      },
      "source": [
        "<a href=\"https://colab.research.google.com/github/daffamaulana03/ID3-with-GA/blob/master/id3_py.ipynb\" target=\"_parent\"><img src=\"https://colab.research.google.com/assets/colab-badge.svg\" alt=\"Open In Colab\"/></a>"
      ]
    },
    {
      "cell_type": "code",
      "metadata": {
        "id": "Dh-MqXr-BxDW",
        "colab_type": "code",
        "colab": {}
      },
      "source": [
        "import random\n",
        "import numpy\n",
        "import pandas\n",
        "from sklearn.preprocessing import OneHotEncoder"
      ],
      "execution_count": 0,
      "outputs": []
    },
    {
      "cell_type": "code",
      "metadata": {
        "id": "9B6YCPUWAE29",
        "colab_type": "code",
        "colab": {}
      },
      "source": [
        "def generateChromosome(jml_bit):\n",
        "    return numpy.random.randint(2, size=jml_bit)"
      ],
      "execution_count": 0,
      "outputs": []
    },
    {
      "cell_type": "code",
      "metadata": {
        "id": "GrwJqshXBINm",
        "colab_type": "code",
        "colab": {}
      },
      "source": [
        "def generatePopulation():\n",
        "    populasi = []\n",
        "    chromo1 = []\n",
        "    jml_kromosom = 20\n",
        "    jml_bit_kromosom = 15\n",
        "    \n",
        "    for individu in range(jml_kromosom):\n",
        "        populasi.append(generateChromosome(jml_bit_kromosom))"
      ],
      "execution_count": 0,
      "outputs": []
    },
    {
      "cell_type": "code",
      "metadata": {
        "id": "BhfYWzuYB9sA",
        "colab_type": "code",
        "outputId": "736c4f67-7139-438b-dc87-a19f36269697",
        "colab": {
          "base_uri": "https://localhost:8080/",
          "height": 34
        }
      },
      "source": [
        "def readFile():\n",
        "    train = open(\"train.csv\", \"r\")\n",
        "    dataTrain = train.readlines()\n",
        "    \n",
        "    array = []\n",
        "\n",
        "    print (len(dataTrain))\n",
        "\n",
        "    for i in range(1, len(dataTrain)):\n",
        "      array.append(dataTrain[i].replace('\\n','').split(';'))\n",
        "    # for i in range(0, len(dataTrain)):\n",
        "    #   print(dataTrain[i])\n",
        "    return array\n",
        "\n",
        "ini = readFile()"
      ],
      "execution_count": 0,
      "outputs": [
        {
          "output_type": "stream",
          "text": [
            "81\n"
          ],
          "name": "stdout"
        }
      ]
    },
    {
      "cell_type": "code",
      "metadata": {
        "id": "QNJQGkrWIyo4",
        "colab_type": "code",
        "outputId": "6d7fde7d-b5c3-4ef4-d0b5-28594666d096",
        "colab": {
          "base_uri": "https://localhost:8080/",
          "height": 1000
        }
      },
      "source": [
        "def convertToBit():\n",
        "  encoder = OneHotEncoder(sparse = False)\n",
        "  train = readFile()\n",
        "  dataTrain = encoder.fit_transform(train).astype(int)\n",
        "  for i in range(0, len(dataTrain)):\n",
        "      print(i+1,dataTrain[i])\n",
        "  return dataTrain\n",
        "convertToBit()"
      ],
      "execution_count": 0,
      "outputs": [
        {
          "output_type": "stream",
          "text": [
            "81\n",
            "1 [1 0 0 0 0 1 0 1 0 0 0 1 0 0 1 0]\n",
            "2 [1 0 0 0 0 1 0 0 1 0 0 1 0 0 1 0]\n",
            "3 [1 0 0 0 1 0 0 0 0 1 0 1 0 0 1 0]\n",
            "4 [1 0 0 0 0 0 1 0 0 0 1 0 1 0 0 1]\n",
            "5 [1 0 0 1 0 0 0 1 0 0 0 0 0 1 1 0]\n",
            "6 [1 0 0 1 0 0 0 0 1 0 0 1 0 0 0 1]\n",
            "7 [1 0 0 0 1 0 0 0 1 0 0 0 1 0 0 1]\n",
            "8 [1 0 0 0 0 1 0 1 0 0 0 0 1 0 1 0]\n",
            "9 [1 0 0 0 0 0 1 0 0 1 0 1 0 0 1 0]\n",
            "10 [1 0 0 0 0 1 0 0 0 0 1 0 1 0 0 1]\n",
            "11 [1 0 0 0 0 0 1 1 0 0 0 0 0 1 1 0]\n",
            "12 [1 0 0 0 0 0 1 0 1 0 0 0 1 0 1 0]\n",
            "13 [1 0 0 0 1 0 0 1 0 0 0 1 0 0 0 1]\n",
            "14 [1 0 0 1 0 0 0 0 0 1 0 0 1 0 0 1]\n",
            "15 [1 0 0 0 1 0 0 0 1 0 0 1 0 0 1 0]\n",
            "16 [1 0 0 0 1 0 0 0 0 0 1 1 0 0 1 0]\n",
            "17 [1 0 0 1 0 0 0 1 0 0 0 0 1 0 1 0]\n",
            "18 [1 0 0 0 0 1 0 0 0 1 0 0 0 1 1 0]\n",
            "19 [1 0 0 0 1 0 0 0 0 0 1 0 0 1 0 1]\n",
            "20 [1 0 0 0 0 1 0 0 0 1 0 0 1 0 1 0]\n",
            "21 [1 0 0 1 0 0 0 0 0 0 1 0 1 0 0 1]\n",
            "22 [1 0 0 0 1 0 0 0 0 0 1 0 1 0 1 0]\n",
            "23 [1 0 0 0 0 0 1 0 0 1 0 0 0 1 1 0]\n",
            "24 [1 0 0 1 0 0 0 0 0 1 0 0 0 1 1 0]\n",
            "25 [0 1 0 0 0 0 1 1 0 0 0 0 0 1 1 0]\n",
            "26 [0 1 0 0 1 0 0 1 0 0 0 0 1 0 0 1]\n",
            "27 [0 1 0 0 0 1 0 1 0 0 0 0 1 0 0 1]\n",
            "28 [0 1 0 0 1 0 0 0 0 0 1 1 0 0 0 1]\n",
            "29 [0 1 0 1 0 0 0 0 0 1 0 0 0 1 1 0]\n",
            "30 [0 1 0 0 0 1 0 0 0 0 1 1 0 0 0 1]\n",
            "31 [0 1 0 0 0 0 1 0 0 1 0 0 1 0 1 0]\n",
            "32 [0 1 0 0 1 0 0 0 1 0 0 0 1 0 0 1]\n",
            "33 [0 1 0 0 0 0 1 0 1 0 0 0 1 0 1 0]\n",
            "34 [0 1 0 1 0 0 0 0 0 0 1 0 1 0 1 0]\n",
            "35 [0 1 0 1 0 0 0 1 0 0 0 0 0 1 0 1]\n",
            "36 [0 1 0 0 0 0 1 0 0 0 1 0 1 0 1 0]\n",
            "37 [0 1 0 0 0 0 1 1 0 0 0 1 0 0 0 1]\n",
            "38 [0 1 0 0 0 1 0 0 0 1 0 1 0 0 0 1]\n",
            "39 [0 1 0 0 1 0 0 0 0 0 1 0 0 1 0 1]\n",
            "40 [0 1 0 0 0 0 1 0 0 1 0 0 0 1 1 0]\n",
            "41 [0 1 0 0 1 0 0 0 0 1 0 1 0 0 0 1]\n",
            "42 [0 1 0 0 0 1 0 0 1 0 0 1 0 0 0 1]\n",
            "43 [0 1 0 0 1 0 0 0 0 1 0 0 0 1 0 1]\n",
            "44 [0 1 0 1 0 0 0 0 1 0 0 1 0 0 0 1]\n",
            "45 [0 1 0 0 1 0 0 0 0 1 0 0 1 0 0 1]\n",
            "46 [0 1 0 0 1 0 0 0 0 0 1 0 1 0 0 1]\n",
            "47 [0 1 0 0 0 1 0 1 0 0 0 1 0 0 0 1]\n",
            "48 [0 1 0 0 0 0 1 0 0 1 0 1 0 0 1 0]\n",
            "49 [0 1 0 0 1 0 0 0 1 0 0 0 0 1 0 1]\n",
            "50 [0 1 0 0 0 1 0 0 0 1 0 0 1 0 1 0]\n",
            "51 [0 1 0 0 1 0 0 1 0 0 0 0 0 1 0 1]\n",
            "52 [0 1 0 0 0 0 1 0 0 0 1 0 0 1 1 0]\n",
            "53 [0 1 0 0 0 1 0 0 0 0 1 0 1 0 0 1]\n",
            "54 [0 1 0 0 1 0 0 0 1 0 0 1 0 0 0 1]\n",
            "55 [0 1 0 1 0 0 0 1 0 0 0 1 0 0 0 1]\n",
            "56 [0 0 1 0 0 0 1 1 0 0 0 0 1 0 0 1]\n",
            "57 [0 0 1 0 1 0 0 0 1 0 0 0 1 0 0 1]\n",
            "58 [0 0 1 0 0 1 0 0 1 0 0 0 0 1 0 1]\n",
            "59 [0 0 1 0 0 1 0 1 0 0 0 0 0 1 0 1]\n",
            "60 [0 0 1 0 0 1 0 0 0 1 0 0 0 1 1 0]\n",
            "61 [0 0 1 0 1 0 0 1 0 0 0 0 0 1 1 0]\n",
            "62 [0 0 1 0 1 0 0 0 0 1 0 1 0 0 0 1]\n",
            "63 [0 0 1 0 0 1 0 0 1 0 0 1 0 0 0 1]\n",
            "64 [0 0 1 0 1 0 0 1 0 0 0 1 0 0 0 1]\n",
            "65 [0 0 1 0 0 0 1 0 0 0 1 0 1 0 1 0]\n",
            "66 [0 0 1 0 0 0 1 0 1 0 0 0 1 0 0 1]\n",
            "67 [0 0 1 0 1 0 0 0 0 0 1 0 1 0 1 0]\n",
            "68 [0 0 1 0 0 0 1 1 0 0 0 1 0 0 1 0]\n",
            "69 [0 0 1 0 1 0 0 0 1 0 0 0 0 1 1 0]\n",
            "70 [0 0 1 0 0 0 1 0 1 0 0 1 0 0 1 0]\n",
            "71 [0 0 1 1 0 0 0 0 0 1 0 0 0 1 1 0]\n",
            "72 [0 0 1 0 0 0 1 0 0 0 1 0 0 1 0 1]\n",
            "73 [0 0 1 1 0 0 0 0 0 1 0 1 0 0 1 0]\n",
            "74 [0 0 1 1 0 0 0 0 0 0 1 1 0 0 1 0]\n",
            "75 [0 0 1 0 0 0 1 0 0 1 0 0 1 0 1 0]\n",
            "76 [0 0 1 0 1 0 0 0 0 1 0 0 1 0 1 0]\n",
            "77 [0 0 1 0 1 0 0 1 0 0 0 0 1 0 0 1]\n",
            "78 [0 0 1 1 0 0 0 1 0 0 0 1 0 0 1 0]\n",
            "79 [0 0 1 1 0 0 0 0 0 0 1 0 1 0 0 1]\n",
            "80 [0 0 1 1 0 0 0 1 0 0 0 0 0 1 1 0]\n"
          ],
          "name": "stdout"
        },
        {
          "output_type": "execute_result",
          "data": {
            "text/plain": [
              "array([[1, 0, 0, ..., 0, 1, 0],\n",
              "       [1, 0, 0, ..., 0, 1, 0],\n",
              "       [1, 0, 0, ..., 0, 1, 0],\n",
              "       ...,\n",
              "       [0, 0, 1, ..., 0, 1, 0],\n",
              "       [0, 0, 1, ..., 0, 0, 1],\n",
              "       [0, 0, 1, ..., 1, 1, 0]])"
            ]
          },
          "metadata": {
            "tags": []
          },
          "execution_count": 23
        }
      ]
    },
    {
      "cell_type": "code",
      "metadata": {
        "id": "sJUeJN0AEMRh",
        "colab_type": "code",
        "colab": {}
      },
      "source": [
        "def parent_select(ppls,train,fit):\n",
        "    haha = -1\n",
        "    #print(\"PPLS\",ppls)\n",
        "    #print(\"TRAIN\",train)\n",
        "    #print(\"FIT\",fit)\n",
        "    #fitness1 = fitness(ppls,train)\n",
        "    for indekss in range(10):\n",
        "        indekss = random.randint(0,len(ppls))\n",
        "        print(\"INDEKS\",indekss)\n",
        "        fit1 = fit[indekss]\n",
        "        fit2 = fit[haha]\n",
        "        if (haha == -1 or (fit1 > fit2)):\n",
        "            haha = indekss\n",
        "    return ppls[haha].copy()"
      ],
      "execution_count": 0,
      "outputs": []
    },
    {
      "cell_type": "code",
      "metadata": {
        "id": "_lONwDTdELCz",
        "colab_type": "code",
        "colab": {}
      },
      "source": [
        "def mutation(co1, co2):\n",
        "    pelMut = 0.9\n",
        "    rand = random.uniform(0,1)\n",
        "    print(rand)\n",
        "    if rand <= pelMut:\n",
        "        for i in range(len(co1)):\n",
        "            indeks = random.randint(0,len(co1))\n",
        "            if indeks <= len(co1)-1:\n",
        "                #print(\"indeks\",indeks)\n",
        "                co1[indeks] = random.randint(0,1)\n",
        "        for j in range(len(co2)):\n",
        "            index = random.randint(0,len(co2))\n",
        "            if index <= len(co2)-1:\n",
        "                co2[index] = random.randint(0,1)\n",
        "    \n",
        "    return co1,co2"
      ],
      "execution_count": 0,
      "outputs": []
    }
  ]
}